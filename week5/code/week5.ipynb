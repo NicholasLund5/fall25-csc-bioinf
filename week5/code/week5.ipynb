{
 "cells": [
  {
   "cell_type": "markdown",
   "id": "b189babc",
   "metadata": {},
   "source": [
    "# Week 5: Pharmacogenomics Analysis\n",
    "\n",
    "## Analysis Pipeline\n",
    "1. Download reference genome (chromosome 10)\n",
    "2. Align Illumina and PacBio reads with minimap2\n",
    "3. Call variants with bcftools\n",
    "4. Phase variants with HapCUT2\n",
    "5. Compare VCFs and identify discordant variants\n",
    "6. Determine star-alleles using PharmVar database"
   ]
  },
  {
   "cell_type": "markdown",
   "id": "294e7094",
   "metadata": {},
   "source": [
    "### Install Dependancies"
   ]
  },
  {
   "cell_type": "code",
   "execution_count": 1,
   "id": "8f92a3ad",
   "metadata": {},
   "outputs": [],
   "source": [
    "import os\n",
    "import subprocess\n",
    "import pandas as pd\n",
    "from pathlib import Path\n",
    "import gzip\n",
    "from collections import defaultdict\n",
    "import gzip\n",
    "import urllib.request\n",
    "import shutil\n",
    "import bz2\n",
    "import platform"
   ]
  },
  {
   "cell_type": "markdown",
   "id": "3e513b54",
   "metadata": {},
   "source": [
    "### Set up working directories"
   ]
  },
  {
   "cell_type": "code",
   "execution_count": 2,
   "id": "e2c05f0f",
   "metadata": {},
   "outputs": [],
   "source": [
    "notebook_dir = Path.cwd()\n",
    "data_dir = notebook_dir.parent / \"data\"\n",
    "data_dir.mkdir(parents=True, exist_ok=True)"
   ]
  },
  {
   "cell_type": "markdown",
   "id": "1eaa2819",
   "metadata": {},
   "source": [
    "### Load Sequence Data"
   ]
  },
  {
   "cell_type": "code",
   "execution_count": 3,
   "id": "5a28bd80",
   "metadata": {},
   "outputs": [
    {
     "name": "stdout",
     "output_type": "stream",
     "text": [
      "Illumina data: True\n",
      "PacBio data: True\n",
      "Illumina already decompressed\n",
      "PacBio already decompressed\n"
     ]
    }
   ],
   "source": [
    "import bz2\n",
    "import shutil\n",
    "from pathlib import Path\n",
    "\n",
    "illumina_path = Path('../data/illumina.fq.bz2')\n",
    "pacbio_path = Path('../data/pacbio.fq.bz2')\n",
    "\n",
    "illumina_out = illumina_path.with_suffix('')\n",
    "pacbio_out = pacbio_path.with_suffix('')\n",
    "\n",
    "print(f\"Illumina data: {illumina_path.exists()}\")\n",
    "print(f\"PacBio data: {pacbio_path.exists()}\")\n",
    "\n",
    "if not illumina_out.exists():\n",
    "    print(\"Decompressing Illumina data\")\n",
    "    with bz2.open(illumina_path, 'rb') as f_in, open(illumina_out, 'wb') as f_out:\n",
    "        shutil.copyfileobj(f_in, f_out)\n",
    "    print(\"Illumina decompressed to\", illumina_out)\n",
    "else:\n",
    "    print(\"Illumina already decompressed\")\n",
    "\n",
    "if not pacbio_out.exists():\n",
    "    print(\"Decompressing PacBio data\")\n",
    "    with bz2.open(pacbio_path, 'rb') as f_in, open(pacbio_out, 'wb') as f_out:\n",
    "        shutil.copyfileobj(f_in, f_out)\n",
    "    print(\"PacBio decompressed to\", pacbio_out)\n",
    "else:\n",
    "    print(\"PacBio already decompressed\")\n"
   ]
  },
  {
   "cell_type": "markdown",
   "id": "79c97db7",
   "metadata": {},
   "source": [
    "## Step 1: Download Reference Genome (All are located on chromosome 10)\n",
    "\n",
    "- CYP2C8\n",
    "- CYP2C9\n",
    "- CYP2C19\n",
    "\n",
    "Locate these genes in the reference genome. Use Genome Browser. We will focus on the hg38 (or GRCh38) version of the human genome. Also, make sure to download the reference genome!\n",
    "\n",
    "Note: you will need to download the human genome for this step; however, note that you do not need the whole human genome. Just focus on the chromosome that contains those genes! The reference should basically be a single FASTA file (extension: .fa or .fasta).\n",
    "\n",
    "Expected output: a single FASTA file."
   ]
  },
  {
   "cell_type": "code",
   "execution_count": 4,
   "id": "60a145cd",
   "metadata": {},
   "outputs": [
    {
     "name": "stdout",
     "output_type": "stream",
     "text": [
      "DOWNLOADING REFERENCE GENOME\n",
      "File already exists.\n"
     ]
    }
   ],
   "source": [
    "# Download chromosome 10 reference genome\n",
    "chr10_url = \"https://hgdownload.soe.ucsc.edu/goldenPath/hg38/chromosomes/chr10.fa.gz\"\n",
    "chr10_gz_path = data_dir / \"chr10.fa.gz\"\n",
    "chr10_fa_path = data_dir / \"chr10.fa\"\n",
    "\n",
    "print(\"DOWNLOADING REFERENCE GENOME\")\n",
    "if not chr10_fa_path.exists():\n",
    "    print(f\"\\nDownloading chromosome 10 from UCSC Genome Browser\")\n",
    "    print(f\"Source: {chr10_url}\")\n",
    "    print(f\"Target: {chr10_gz_path}\")\n",
    "    \n",
    "    try:\n",
    "        urllib.request.urlretrieve(chr10_url, chr10_gz_path)\n",
    "        print(\"\\nDownload complete\")\n",
    "        print(f\"Decompressing {chr10_gz_path.name}\")\n",
    "        with gzip.open(chr10_gz_path, 'rb') as f_in:\n",
    "            with open(chr10_fa_path, 'wb') as f_out:\n",
    "                shutil.copyfileobj(f_in, f_out)\n",
    "        \n",
    "        print(f\"Decompression complete\")\n",
    "        print(f\"  Output file: {chr10_fa_path}\")\n",
    "                \n",
    "    except Exception as e:\n",
    "        print(f\"\\nError during download: {e}\")\n",
    "        raise\n",
    "else:\n",
    "    print(\"File already exists.\")"
   ]
  },
  {
   "cell_type": "markdown",
   "id": "e7762058",
   "metadata": {},
   "source": [
    "## 2. Align Illumina and PacBio reads with minimap2\n",
    "\n",
    "Align all samples in FASTQ format to the human genome (version GRCh38). Use minimap2 for the alignment. Make sure to use appropriate parameters for each technology.\n",
    "\n",
    "Note: you will need to download the human genome for this step; however, note that you do not need the whole human genome. Just focus on the chromosome that contains those genes! The reference should basically be a single FASTA file (extension: .fa).\n",
    "\n",
    "Expected output: two BAM files and two BAI files (one of those for each sample)."
   ]
  },
  {
   "cell_type": "markdown",
   "id": "e70bf5cd",
   "metadata": {},
   "source": [
    "### Install "
   ]
  },
  {
   "cell_type": "code",
   "execution_count": 5,
   "id": "1a208f98",
   "metadata": {},
   "outputs": [
    {
     "name": "stderr",
     "output_type": "stream",
     "text": [
      "fatal: destination path 'minimap2' already exists and is not an empty directory.\n"
     ]
    },
    {
     "name": "stdout",
     "output_type": "stream",
     "text": [
      "make: Nothing to be done for 'all'.\n",
      "2.30-r1287\n"
     ]
    }
   ],
   "source": [
    "%%bash\n",
    "# Local install (no sudo) — builds minimap2 from source into ~/bin\n",
    "mkdir -p ~/bin\n",
    "cd /tmp\n",
    "git clone https://github.com/lh3/minimap2.git\n",
    "cd minimap2\n",
    "make\n",
    "cp minimap2 ~/bin/\n",
    "\n",
    "# Add to PATH for this session\n",
    "export PATH=\"$HOME/bin:$PATH\"\n",
    "echo \"export PATH=\\\"$HOME/bin:\\$PATH\\\"\" >> ~/.bashrc\n",
    "\n",
    "# Verify installation\n",
    "~/bin/minimap2 --version\n"
   ]
  },
  {
   "cell_type": "markdown",
   "id": "8bc7856f",
   "metadata": {},
   "source": [
    "### Index Reference Genome"
   ]
  },
  {
   "cell_type": "code",
   "execution_count": 6,
   "id": "9f992c88",
   "metadata": {},
   "outputs": [
    {
     "name": "stdout",
     "output_type": "stream",
     "text": [
      "INDEXING REFERENCE GENOME\n",
      "Index already exists: /mnt/c/Users/Nick/Documents/GitHub/fall25-csc-bioinf/week5/data/chr10.mmi\n"
     ]
    }
   ],
   "source": [
    "# Index the reference genome for minimap2\n",
    "print(\"INDEXING REFERENCE GENOME\")\n",
    "chr10_mmi_path = data_dir / \"chr10.mmi\"\n",
    "\n",
    "if not chr10_mmi_path.exists():\n",
    "    print(f\"\\nCreating minimap2 index for {chr10_fa_path}\")\n",
    "    cmd = [\n",
    "        \"minimap2\",\n",
    "        \"-d\", str(chr10_mmi_path),\n",
    "        str(chr10_fa_path)\n",
    "    ]\n",
    "    \n",
    "    try:\n",
    "        subprocess.run(cmd, check=True)\n",
    "        print(f\"Index created: {chr10_mmi_path}\")\n",
    "    except subprocess.CalledProcessError as e:\n",
    "        print(f\"Error creating index: {e}\")\n",
    "        raise\n",
    "else:\n",
    "    print(f\"Index already exists: {chr10_mmi_path}\")"
   ]
  },
  {
   "cell_type": "markdown",
   "id": "75f8ba23",
   "metadata": {},
   "source": [
    "### Align Illumina Reads"
   ]
  },
  {
   "cell_type": "code",
   "execution_count": 7,
   "id": "064bb264",
   "metadata": {},
   "outputs": [
    {
     "name": "stdout",
     "output_type": "stream",
     "text": [
      "\n",
      "ALIGNING ILLUMINA READS\n",
      "Aligning Illumina reads with minimap2 (sr preset for short reads)\n"
     ]
    },
    {
     "name": "stderr",
     "output_type": "stream",
     "text": [
      "[WARNING]\u001b[1;31m Indexing parameters (-k, -w or -H) overridden by parameters used in the prebuilt index.\u001b[0m\n",
      "[M::main::59.279*0.10] loaded/built the index for 1 target sequence(s)\n",
      "[M::mm_mapopt_update::59.279*0.10] mid_occ = 1000\n",
      "[M::mm_idx_stat] kmer size: 15; skip: 10; is_hpc: 0; #seq: 1\n",
      "[M::mm_idx_stat::59.451*0.11] distinct minimizers: 16061920 (79.91% are singletons); average occurrences: 1.563; average spacing: 5.329; total length: 133797422\n",
      "[M::worker_pipeline::100.235*0.50] mapped 309505 sequences\n",
      "[M::main] Version: 2.26-r1175\n",
      "[M::main] CMD: minimap2 -ax sr -t 4 /mnt/c/Users/Nick/Documents/GitHub/fall25-csc-bioinf/week5/data/chr10.mmi ../data/illumina.fq\n",
      "[M::main] Real time: 100.258 sec; CPU: 50.300 sec; Peak RSS: 0.925 GB\n"
     ]
    },
    {
     "name": "stdout",
     "output_type": "stream",
     "text": [
      "Alignment complete: /mnt/c/Users/Nick/Documents/GitHub/fall25-csc-bioinf/week5/data/illumina.sam\n",
      "Converting SAM to BAM\n",
      "Sorting BAM file\n",
      "Indexing BAM file\n",
      "Final output: /mnt/c/Users/Nick/Documents/GitHub/fall25-csc-bioinf/week5/data/illumina_sorted.bam\n",
      "Index: /mnt/c/Users/Nick/Documents/GitHub/fall25-csc-bioinf/week5/data/illumina_sorted.bam.bai\n"
     ]
    }
   ],
   "source": [
    "# Align Illumina reads (short, accurate reads)\n",
    "print(\"\\nALIGNING ILLUMINA READS\")\n",
    "\n",
    "illumina_sam = data_dir / \"illumina.sam\"\n",
    "illumina_bam = data_dir / \"illumina.bam\"\n",
    "illumina_sorted_bam = data_dir / \"illumina_sorted.bam\"\n",
    "illumina_bai = data_dir / \"illumina_sorted.bam.bai\"\n",
    "\n",
    "if not illumina_sorted_bam.exists():\n",
    "    print(\"Aligning Illumina reads with minimap2 (sr preset for short reads)\")\n",
    "    \n",
    "    # Align with minimap2 using short-read preset\n",
    "    align_cmd = [\n",
    "        \"minimap2\",\n",
    "        \"-ax\", \"sr\",  # short single-end reads preset\n",
    "        \"-t\", \"4\",     # threads\n",
    "        str(chr10_mmi_path),\n",
    "        str(illumina_out)\n",
    "    ]\n",
    "    \n",
    "    with open(illumina_sam, 'w') as sam_file:\n",
    "        subprocess.run(align_cmd, stdout=sam_file, check=True)\n",
    "    \n",
    "    print(f\"Alignment complete: {illumina_sam}\")\n",
    "    \n",
    "    # Convert SAM to BAM\n",
    "    print(\"Converting SAM to BAM\")\n",
    "    subprocess.run([\n",
    "        \"samtools\", \"view\",\n",
    "        \"-b\", \"-o\", str(illumina_bam),\n",
    "        str(illumina_sam)\n",
    "    ], check=True)\n",
    "    \n",
    "    # Sort BAM\n",
    "    print(\"Sorting BAM file\")\n",
    "    subprocess.run([\n",
    "        \"samtools\", \"sort\",\n",
    "        \"-o\", str(illumina_sorted_bam),\n",
    "        str(illumina_bam)\n",
    "    ], check=True)\n",
    "    \n",
    "    # Index BAM\n",
    "    print(\"Indexing BAM file\")\n",
    "    subprocess.run([\n",
    "        \"samtools\", \"index\",\n",
    "        str(illumina_sorted_bam)\n",
    "    ], check=True)\n",
    "    \n",
    "    # Clean up intermediate files\n",
    "    illumina_sam.unlink()\n",
    "    illumina_bam.unlink()\n",
    "    \n",
    "    print(f\"Final output: {illumina_sorted_bam}\")\n",
    "    print(f\"Index: {illumina_bai}\")\n",
    "else:\n",
    "    print(f\"Illumina alignment already exists: {illumina_sorted_bam}\")"
   ]
  },
  {
   "cell_type": "markdown",
   "id": "6faf47b3",
   "metadata": {},
   "source": [
    "### Align PacBio Reads"
   ]
  },
  {
   "cell_type": "code",
   "execution_count": 8,
   "id": "303a02fa",
   "metadata": {},
   "outputs": [
    {
     "name": "stdout",
     "output_type": "stream",
     "text": [
      "\n",
      "ALIGNING PACBIO READS\n",
      "Aligning PacBio reads with minimap2 (map-pb preset for PacBio)\n"
     ]
    },
    {
     "name": "stderr",
     "output_type": "stream",
     "text": [
      "[WARNING]\u001b[1;31m Indexing parameters (-k, -w or -H) overridden by parameters used in the prebuilt index.\u001b[0m\n",
      "[M::main::59.848*0.10] loaded/built the index for 1 target sequence(s)\n",
      "[M::mm_mapopt_update::60.150*0.11] mid_occ = 178\n",
      "[M::mm_idx_stat] kmer size: 15; skip: 10; is_hpc: 0; #seq: 1\n",
      "[M::mm_idx_stat::60.313*0.11] distinct minimizers: 16061920 (79.91% are singletons); average occurrences: 1.563; average spacing: 5.329; total length: 133797422\n",
      "[M::worker_pipeline::62.874*0.19] mapped 3063 sequences\n",
      "[M::main] Version: 2.26-r1175\n",
      "[M::main] CMD: minimap2 -ax map-pb -t 4 /mnt/c/Users/Nick/Documents/GitHub/fall25-csc-bioinf/week5/data/chr10.mmi ../data/pacbio.fq\n",
      "[M::main] Real time: 62.896 sec; CPU: 12.253 sec; Peak RSS: 0.748 GB\n"
     ]
    },
    {
     "name": "stdout",
     "output_type": "stream",
     "text": [
      "Alignment complete: /mnt/c/Users/Nick/Documents/GitHub/fall25-csc-bioinf/week5/data/pacbio.sam\n",
      "Converting SAM to BAM\n",
      "Sorting BAM file\n",
      "Indexing BAM file\n",
      "Final output: /mnt/c/Users/Nick/Documents/GitHub/fall25-csc-bioinf/week5/data/pacbio_sorted.bam\n",
      "Index: /mnt/c/Users/Nick/Documents/GitHub/fall25-csc-bioinf/week5/data/pacbio_sorted.bam.bai\n"
     ]
    }
   ],
   "source": [
    "# Align PacBio reads (long, less accurate reads)\n",
    "print(\"\\nALIGNING PACBIO READS\")\n",
    "\n",
    "pacbio_sam = data_dir / \"pacbio.sam\"\n",
    "pacbio_bam = data_dir / \"pacbio.bam\"\n",
    "pacbio_sorted_bam = data_dir / \"pacbio_sorted.bam\"\n",
    "pacbio_bai = data_dir / \"pacbio_sorted.bam.bai\"\n",
    "\n",
    "if not pacbio_sorted_bam.exists():\n",
    "    print(\"Aligning PacBio reads with minimap2 (map-pb preset for PacBio)\")\n",
    "    \n",
    "    # Align with minimap2 using PacBio preset\n",
    "    align_cmd = [\n",
    "        \"minimap2\",\n",
    "        \"-ax\", \"map-pb\",  # PacBio CLR reads preset\n",
    "        \"-t\", \"4\",         # threads\n",
    "        str(chr10_mmi_path),\n",
    "        str(pacbio_out)\n",
    "    ]\n",
    "    \n",
    "    with open(pacbio_sam, 'w') as sam_file:\n",
    "        subprocess.run(align_cmd, stdout=sam_file, check=True)\n",
    "    \n",
    "    print(f\"Alignment complete: {pacbio_sam}\")\n",
    "    \n",
    "    # Convert SAM to BAM\n",
    "    print(\"Converting SAM to BAM\")\n",
    "    subprocess.run([\n",
    "        \"samtools\", \"view\",\n",
    "        \"-b\", \"-o\", str(pacbio_bam),\n",
    "        str(pacbio_sam)\n",
    "    ], check=True)\n",
    "    \n",
    "    # Sort BAM\n",
    "    print(\"Sorting BAM file\")\n",
    "    subprocess.run([\n",
    "        \"samtools\", \"sort\",\n",
    "        \"-o\", str(pacbio_sorted_bam),\n",
    "        str(pacbio_bam)\n",
    "    ], check=True)\n",
    "    \n",
    "    # Index BAM\n",
    "    print(\"Indexing BAM file\")\n",
    "    subprocess.run([\n",
    "        \"samtools\", \"index\",\n",
    "        str(pacbio_sorted_bam)\n",
    "    ], check=True)\n",
    "    \n",
    "    # Clean up intermediate files\n",
    "    pacbio_sam.unlink()\n",
    "    pacbio_bam.unlink()\n",
    "    \n",
    "    print(f\"Final output: {pacbio_sorted_bam}\")\n",
    "    print(f\"Index: {pacbio_bai}\")\n",
    "else:\n",
    "    print(f\"PacBio alignment already exists: {pacbio_sorted_bam}\")"
   ]
  },
  {
   "cell_type": "markdown",
   "id": "aa7cdb14",
   "metadata": {},
   "source": [
    "### Verify output"
   ]
  },
  {
   "cell_type": "code",
   "execution_count": 10,
   "id": "d6beb025",
   "metadata": {},
   "outputs": [
    {
     "name": "stdout",
     "output_type": "stream",
     "text": [
      "\n",
      "VERIFYING OUTPUT FILES\n",
      "Illumina BAM: True\n",
      "Illumina BAI: True\n",
      "PacBio BAM: True\n",
      "PacBio BAI: True\n",
      "\n",
      "All alignment files successfully created!\n"
     ]
    }
   ],
   "source": [
    "# Verify all output files exist\n",
    "print(\"\\nVERIFYING OUTPUT FILES\")\n",
    "print(f\"Illumina BAM: {illumina_sorted_bam.exists()}\")\n",
    "print(f\"Illumina BAI: {illumina_bai.exists()}\")\n",
    "print(f\"PacBio BAM: {pacbio_sorted_bam.exists()}\")\n",
    "print(f\"PacBio BAI: {pacbio_bai.exists()}\")\n",
    "\n",
    "if all([illumina_sorted_bam.exists(), illumina_bai.exists(), \n",
    "        pacbio_sorted_bam.exists(), pacbio_bai.exists()]):\n",
    "    print(\"\\nAll alignment files successfully created!\")"
   ]
  },
  {
   "cell_type": "markdown",
   "id": "51bd8635",
   "metadata": {},
   "source": [
    "## Step 3: \n",
    "\n",
    "Find all variants (i.e., call them) in each sample for all genes of interest, and obtain the resulting VCF file. You can use either bcftools or FreeBayes. Those with suppressed masochistic tendencies are welcome to use GATK, but be warned: that tool is the epitome of (needless) complexity.\n",
    "\n",
    "Expected output: two VCF files (one for each sample)."
   ]
  },
  {
   "cell_type": "code",
   "execution_count": null,
   "id": "68c203a8-2769-4829-8026-ee889cd7433c",
   "metadata": {},
   "outputs": [],
   "source": []
  },
  {
   "cell_type": "markdown",
   "id": "3d34fbed",
   "metadata": {},
   "source": [
    "## Step 4: \n",
    "\n",
    "Now phase the variant VCFs with HapCUT2 or HapTree-X. The output of these tools may be in HapCUT block format; if that happens, convert this file to the phased VCF format.\n",
    "\n",
    "Expected output: two VCF files (one for each sample)."
   ]
  },
  {
   "cell_type": "code",
   "execution_count": null,
   "id": "06be0461-55a0-4263-bdd8-95500e4d8914",
   "metadata": {},
   "outputs": [],
   "source": []
  },
  {
   "cell_type": "markdown",
   "id": "d9984d71",
   "metadata": {},
   "source": [
    "## Step 5: \n",
    "\n",
    "Now you should have two phased VCF files (one for each sequencing technology). Compare these VCFs. How many variants are shared between the VCFs? How many are not?\n",
    "\n",
    "Select 2-3 variants that are not common (if any) and check which technology supports this variant. Open both BAM files in IGV and take a screenshot of each problematic discordant location. What can you deduce from these screenshots—are these variants sequencing-related artifacts or are they indeed true variants?\n",
    "\n",
    "Do this analysis for every gene.\n",
    "\n",
    "Expected output: Jupyter cell(s) with IGV screenshots and a discussion."
   ]
  },
  {
   "cell_type": "code",
   "execution_count": null,
   "id": "28f2ec1d-bb29-41d7-9e51-1d79cf0e040b",
   "metadata": {},
   "outputs": [],
   "source": []
  },
  {
   "cell_type": "markdown",
   "id": "7c281267",
   "metadata": {},
   "source": [
    "## Step 6: \n",
    "\n",
    "Can you figure out the star-allele for each gene of interest? The star-allele database can be found in PharmVar; see this for CYP2C19. Your answer should be something like CYP2C19*12 because X, Y and Z. This step does not have to be automated, but should be at least explained in the notebook.\n",
    "\n",
    "Hint: use phased data!\n",
    "\n",
    "Expected output: Jupyter cell(s) with discussion (and code, if you want to do it that way)."
   ]
  },
  {
   "cell_type": "code",
   "execution_count": null,
   "id": "ba52970f-397a-4c1a-be05-854c34245ec6",
   "metadata": {},
   "outputs": [],
   "source": []
  }
 ],
 "metadata": {
  "kernelspec": {
   "display_name": "Python 3 (ipykernel)",
   "language": "python",
   "name": "python3"
  },
  "language_info": {
   "codemirror_mode": {
    "name": "ipython",
    "version": 3
   },
   "file_extension": ".py",
   "mimetype": "text/x-python",
   "name": "python",
   "nbconvert_exporter": "python",
   "pygments_lexer": "ipython3",
   "version": "3.12.3"
  }
 },
 "nbformat": 4,
 "nbformat_minor": 5
}
